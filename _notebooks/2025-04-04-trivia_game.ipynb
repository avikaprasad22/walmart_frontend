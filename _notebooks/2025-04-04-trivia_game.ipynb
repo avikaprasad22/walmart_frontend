{
 "cells": [
  {
   "cell_type": "raw",
   "metadata": {
    "vscode": {
     "languageId": "raw"
    }
   },
   "source": [
    "---\n",
    "layout: post\n",
    "title: Trivia Game Plan + Documentation\n",
    "description: This jupyter notebook explains the process of the trivia game, the data used, and the code behind it.\n",
    "permalink: /trivia_documentation/\n",
    "no_header: true\n",
    "---"
   ]
  },
  {
   "cell_type": "markdown",
   "metadata": {},
   "source": [
    "# Original Plan:\n",
    "1. Start Game\n",
    "    - User inputs their name\n",
    "    - Selects difficulty level (easy, medium, hard).\n",
    "2. Question Display\n",
    "    - A question with multiple-choice options is fetched from your database.\n",
    "3. User Selection\n",
    "    - User selects an answer.\n",
    "    - Instant feedback (correct or incorrect) is displayed.\n",
    "4. Score Update\n",
    "    - The score is updated dynamically based on the user's selection.\n",
    "5. End of Game\n",
    "    - After a set number of questions, the game ends.\n",
    "    - Final score is displayed.\n",
    "6. Leaderboard\n",
    "    - The leaderboard shows past users and their scores.\n",
    "\n",
    "# New Plan:\n",
    "Instead of making the questions myself, I fetched science questions from [open trivia DB](https://opentdb.com/) by creating an api link. I then store it in a variable, like this:"
   ]
  },
  {
   "cell_type": "code",
   "execution_count": null,
   "metadata": {},
   "outputs": [],
   "source": [
    "TRIVIA_API_URL = \"https://opentdb.com/api.php?amount=1&category=17\""
   ]
  },
  {
   "cell_type": "markdown",
   "metadata": {},
   "source": [
    "I then use this for my api code and getting a batch of questions in order to reduce lagging and loading."
   ]
  },
  {
   "cell_type": "code",
   "execution_count": null,
   "metadata": {},
   "outputs": [],
   "source": [
    "@questions_api.route('/get_questions', methods=['GET'])\n",
    "def get_questions():\n",
    "    \"\"\"Fetches a batch of trivia questions for preloading.\"\"\"\n",
    "    difficulty = request.args.get('difficulty', 'medium')\n",
    "    api_url = f\"{TRIVIA_API_URL}&difficulty={difficulty}\"\n",
    "\n",
    "    try:\n",
    "        response = requests.get(api_url)\n",
    "        response.raise_for_status()\n",
    "        data = response.json()\n",
    "\n",
    "        if \"results\" not in data or not data[\"results\"]:\n",
    "            return jsonify({\"error\": \"No questions found\"}), 404\n",
    "\n",
    "        questions = []\n",
    "        for q in data[\"results\"]:\n",
    "            options = q[\"incorrect_answers\"] + [q[\"correct_answer\"]]\n",
    "            random.shuffle(options)\n",
    "            questions.append({\n",
    "                \"question\": q[\"question\"],\n",
    "                \"options\": options,\n",
    "                \"correct_answer\": q[\"correct_answer\"]\n",
    "            })\n",
    "\n",
    "        return jsonify(questions)\n",
    "\n",
    "    except requests.exceptions.RequestException as e:\n",
    "        return jsonify({\"error\": f\"Failed to fetch questions: {str(e)}\"}), 500\n"
   ]
  },
  {
   "cell_type": "markdown",
   "metadata": {},
   "source": [
    "This is what I get when I test it on postman:\n",
    "![trivia](../images/trivia_api.png)\n",
    "\n",
    "There is also an api for calculating the total score of the user that gets saved into a json file:\n"
   ]
  },
  {
   "cell_type": "code",
   "execution_count": null,
   "metadata": {},
   "outputs": [],
   "source": [
    "# creating file\n",
    "SCOREBOARD_FILE = \"scoreboard.json\"\n",
    "\n",
    "# Initialize scoreboard file if it doesn't exist\n",
    "if not os.path.exists(SCOREBOARD_FILE):\n",
    "    with open(SCOREBOARD_FILE, \"w\") as f:\n",
    "        json.dump([], f)\n",
    "\n",
    "# api for saving user score\n",
    "@scoreboard_api.route('/submit_scores', methods=['POST'])\n",
    "def submit_score():\n",
    "    \"\"\"Saves user score.\"\"\"\n",
    "    data = request.json\n",
    "    username = data.get(\"username\")\n",
    "    score = data.get(\"score\")\n",
    "\n",
    "    if not username or score is None:\n",
    "        return jsonify({\"error\": \"Missing username or score\"}), 400\n",
    "\n",
    "    with open(SCOREBOARD_FILE, \"r\") as f:\n",
    "        scores = json.load(f)\n",
    "\n",
    "    scores.append({\"username\": username, \"score\": score})\n",
    "    scores = sorted(scores, key=lambda x: x[\"score\"], reverse=True)[:10]  # Keep top 10\n",
    "\n",
    "    with open(SCOREBOARD_FILE, \"w\") as f:\n",
    "        json.dump(scores, f)\n",
    "\n",
    "    return jsonify({\"message\": \"Score saved successfully!\"})"
   ]
  },
  {
   "cell_type": "markdown",
   "metadata": {},
   "source": [
    "Postman test:\n",
    "\n",
    "![scores](../images/scores_api.png)\n",
    "\n",
    "\n",
    "There is also an api for displaying the leaderboard in order to be dynamic:"
   ]
  },
  {
   "cell_type": "code",
   "execution_count": null,
   "metadata": {},
   "outputs": [],
   "source": [
    "@scoreboard_api.route('/get_scores', methods=['GET'])\n",
    "def get_scores():\n",
    "    \"\"\"Retrieves the top 10 scores.\"\"\"\n",
    "    with open(SCOREBOARD_FILE, \"r\") as f:\n",
    "        scores = json.load(f)\n",
    "    return jsonify(scores)"
   ]
  },
  {
   "cell_type": "markdown",
   "metadata": {},
   "source": [
    "Postman test:\n",
    "![scoreboard](../images/scoreboard_api.png)\n"
   ]
  },
  {
   "cell_type": "markdown",
   "metadata": {},
   "source": [
    "On the frontend side, I made sure to import pythonURI and FetchOptions to make it easier for deployment:"
   ]
  },
  {
   "cell_type": "code",
   "execution_count": null,
   "metadata": {},
   "outputs": [],
   "source": [
    "import { pythonURI, fetchOptions } from '{{ site.baseurl }}/assets/js/api/config.js';"
   ]
  },
  {
   "cell_type": "markdown",
   "metadata": {},
   "source": [
    "# Next steps (4/7):\n",
    "- Get login to work so user doesn't have to input name\n",
    "- turn leaderboard into a dynamic table and not a json file\n",
    "\n",
    "\n",
    "# 6/2 Update:\n",
    "The leaderboard has become a SQL table and is being displayed on the frontend, with search and filtering features. There are three modes: easy, medium, and hard. The easy mode questions are made from open trivia database, and the medium and hard questions are formed form information from the NCBI genetics database. For users that are new to DNA and genetics, flashcards are available for them to learn basic terms before starting."
   ]
  }
 ],
 "metadata": {
  "language_info": {
   "name": "python"
  }
 },
 "nbformat": 4,
 "nbformat_minor": 2
}
