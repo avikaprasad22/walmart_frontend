{
 "cells": [
  {
   "cell_type": "raw",
   "metadata": {
    "vscode": {
     "languageId": "raw"
    }
   },
   "source": [
    "---\n",
    "layout: post\n",
    "no_header: true\n",
    "title: Pilot City Week 1 - Planning + Ideation, First Code\n",
    "permalink: /week_1/\n",
    "---"
   ]
  },
  {
   "cell_type": "markdown",
   "metadata": {},
   "source": [
    "# Week of 3/24-3/28 Overview:\n",
    "This week, we created: \n",
    "- [kanban board](https://github.com/users/avikaprasad22/projects/1){:target=\"_blank\"}\n",
    "- [figma flowchart](https://www.figma.com/board/YskXMs9oaRe3wxMj2ga7Hb/Pilot-City-Project?node-id=1-37&t=9ppbsAbciRhiPV9f-0){:target=\"_blank\"}\n",
    "- [planning issue](https://github.com/avikaprasad22/illumina_dna/issues/7){:target=\"_blank\"} including roles and tasks\n",
    "- user stories for each feature:\n",
    "    - [ML Disease Risk](https://github.com/avikaprasad22/illumina_dna/issues/9){:target=\"_blank\"}\n",
    "    - [DNA Simulation](http://github.com/avikaprasad22/illumina_dna/issues/11){:target=\"_blank\"}\n",
    "    - [Trivia Game](https://github.com/avikaprasad22/illumina_dna/issues/8){:target=\"_blank\"}\n",
    "        - [Resources](https://github.com/avikaprasad22/illumina_dna/issues/10){:target=\"_blank\"}\n",
    "- a website using tailwind as a frontend\n"
   ]
  }
 ],
 "metadata": {
  "language_info": {
   "name": "python"
  }
 },
 "nbformat": 4,
 "nbformat_minor": 2
}
