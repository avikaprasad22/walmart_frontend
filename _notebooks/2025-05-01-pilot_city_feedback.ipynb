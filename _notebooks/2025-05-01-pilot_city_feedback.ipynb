{
 "cells": [
  {
   "cell_type": "raw",
   "id": "ce15ad6c",
   "metadata": {
    "vscode": {
     "languageId": "raw"
    }
   },
   "source": [
    "---\n",
    "layout: post\n",
    "no_header: true\n",
    "title: Notes + Feedback for pilot city review\n",
    "permalink: /pilot_city/\n",
    "---"
   ]
  },
  {
   "cell_type": "markdown",
   "id": "e4ce7c0e",
   "metadata": {},
   "source": [
    "- Create a more visually compellng website\n",
    "- Make the games more user friendly or make each game a different level\n",
    "- Good games, but should be geared more toward the average person\n",
    "    - The games we have now are too complicated for somebody who is new to biotechnology\n",
    "- Suggestions to make it more initially engaging and user-friendly:\n",
    "    - For our home page we can make it so that there are different levels (Beginner to Advanced) for users to click on as they advance in their knowledge in biotechnology on our websites. This create a chronological order of events that will make our website more organized and easy to follow for a first-time user\n",
    "    - For the games we have right now, we could add a set of instructions or a tutorial page to give helpful contex and information for what may be otherwise confusing feature \n",
    "    - We could also add a page dedicated to information, notes, or lessons about biotechnology so that the user can gain some knowledge before jumping straight into our games\n",
    "- We may also need to consider reformatting our header and home page in general to make it more visiually engaging\n"
   ]
  }
 ],
 "metadata": {
  "language_info": {
   "name": "python"
  }
 },
 "nbformat": 4,
 "nbformat_minor": 5
}
