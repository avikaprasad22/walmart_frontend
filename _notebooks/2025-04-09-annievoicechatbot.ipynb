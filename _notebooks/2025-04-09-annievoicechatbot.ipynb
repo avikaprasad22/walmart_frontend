{
 "cells": [
  {
   "cell_type": "raw",
   "id": "69eca1ea",
   "metadata": {
    "vscode": {
     "languageId": "raw"
    }
   },
   "source": [
    "---\n",
    "layout: post\n",
    "no_header: true\n",
    "title: ANNIE – Developer Notes\n",
    "permalink: /annie_docs/\n",
    "---"
   ]
  },
  {
   "cell_type": "markdown",
   "id": "68a20a45",
   "metadata": {},
   "source": [
    "# ANNIE – Developer Notes (Short Version)\n",
    "\n",
    "## Frontend (Voice Interface)\n",
    "\n",
    "### Main Functions\n",
    "\n",
    "- **Speech Recognition** (`webkitSpeechRecognition`):\n",
    "  - Starts/stops on pyramid click\n",
    "  - Converts user speech to text\n",
    "  - Sends text to backend via `sendMessage()`\n",
    "\n",
    "```javascript\n",
    "recognition = new webkitSpeechRecognition();\n",
    "recognition.onresult = (event) => {\n",
    "  heardText = event.results[i][0].transcript.trim();\n",
    "  sendMessage(heardText);\n",
    "};\n"
   ]
  },
  {
   "cell_type": "markdown",
   "id": "7929a759",
   "metadata": {},
   "source": [
    "## Speech Synthesis (SpeechSynthesisUtterance):\n",
    "\n",
    "- Cancels current speech before new one\n",
    "- Picks female-like voice (e.g., Google, Samantha, Jenny)"
   ]
  },
  {
   "cell_type": "code",
   "execution_count": null,
   "id": "ed53814c",
   "metadata": {},
   "outputs": [],
   "source": [
    "function speakText(text) {\n",
    "  speechSynthesis.cancel();\n",
    "  const utterance = new SpeechSynthesisUtterance(text);\n",
    "  utterance.voice = selectedVoice;\n",
    "  speechSynthesis.speak(utterance);\n",
    "}"
   ]
  },
  {
   "cell_type": "markdown",
   "id": "3ff43755",
   "metadata": {},
   "source": [
    "## UI Controls:\n",
    "\n",
    "- Pyramid click toggles listening\n",
    "- \"Stop Speaking\" button cancels speech"
   ]
  },
  {
   "cell_type": "markdown",
   "id": "19fad3ce",
   "metadata": {},
   "source": [
    "#  Backend (Flask + Gemini AI)\n",
    "### Main Components\n",
    "Gemini Model Setup (biotech-focused persona)"
   ]
  },
  {
   "cell_type": "code",
   "execution_count": null,
   "id": "336023c3",
   "metadata": {},
   "outputs": [],
   "source": [
    "model = genai.GenerativeModel(\n",
    "  model_name=\"gemini-1.5-flash\",\n",
    "  generation_config={...},\n",
    "  system_instruction=\"Expert in biotech and Illumina systems...\"\n",
    ")\n"
   ]
  },
  {
   "cell_type": "markdown",
   "id": "612d61fd",
   "metadata": {},
   "source": [
    "### Chat Endpoint"
   ]
  },
  {
   "cell_type": "code",
   "execution_count": null,
   "id": "2526f2bd",
   "metadata": {},
   "outputs": [],
   "source": [
    "@dnabot_api.route('/chat', methods=['POST'])\n",
    "def chat():\n",
    "  user_input = request.json.get('user_input', '')\n",
    "  response = model.start_chat().send_message(user_input)\n",
    "  return jsonify({\"response\": response.text})\n"
   ]
  },
  {
   "cell_type": "markdown",
   "id": "a168280e",
   "metadata": {},
   "source": [
    "## Workflow Summary\n",
    "- User speaks → browser converts to text\n",
    "- Text sent to backend /dnabot/chat\n",
    "- Gemini responds → frontend speaks it"
   ]
  },
  {
   "cell_type": "markdown",
   "id": "02b2934f",
   "metadata": {},
   "source": []
  }
 ],
 "metadata": {
  "language_info": {
   "name": "python"
  }
 },
 "nbformat": 4,
 "nbformat_minor": 5
}
