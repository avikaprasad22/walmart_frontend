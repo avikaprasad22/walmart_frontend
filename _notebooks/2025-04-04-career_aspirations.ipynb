{
 "cells": [
  {
   "cell_type": "raw",
   "metadata": {
    "vscode": {
     "languageId": "raw"
    }
   },
   "source": [
    "---\n",
    "layout: post\n",
    "no_header: true\n",
    "title: Career Aspirations Quiz Documentation\n",
    "description: This blog explais the process and planning behind creating the Career Aspirations Quiz. It covers how the idea began, how the quiz works, what features it offers, and how it helps users discover career paths that match their skills and interest in science.\n",
    "permalink: /career_blog/\n",
    "show_reading_time: false\n",
    "---"
   ]
  },
  {
   "cell_type": "markdown",
   "metadata": {},
   "source": [
    "# Planning Process\n",
    "- First, the career quiz was meant to be a Study Resource Table which would appear after a user plays a trivia game. However, in order to make this its own, distinct feature, I changed this to be its own interactive quiz to help users determine their career path based on their love for biotechnology\n",
    "    - There is a set of 5 questions that ask about the user's interest in biotechnology \n",
    "    - The score they get will be matched to the scores of other people from a kaggle dataset to determine their career path\n",
    "    - The user will be able to compare their results to that of the dataset and get an idea of what they could achieve in the future based on past data"
   ]
  },
  {
   "cell_type": "markdown",
   "metadata": {},
   "source": [
    "## Backend Code"
   ]
  },
  {
   "cell_type": "markdown",
   "metadata": {},
   "source": [
    "- This is what my backend code looks like:"
   ]
  },
  {
   "cell_type": "code",
   "execution_count": null,
   "metadata": {},
   "outputs": [],
   "source": [
    "from flask import Blueprint, request, jsonify\n",
    "import pandas as pd\n",
    "import os  # Keep this to work with file paths\n",
    "\n",
    "# Create Blueprint for handling resource requests\n",
    "resource_api = Blueprint('resource_api', __name__, url_prefix=\"/api\")\n",
    "\n",
    "# Modified: Load local CSV instead of Kaggle\n",
    "def load_dataset():\n",
    "    \"\"\"Loads the student-scores dataset from local CSV file.\"\"\"\n",
    "    try:\n",
    "        csv_file = os.path.join(os.path.dirname(__file__), \"student-scores.csv\")\n",
    "        df = pd.read_csv(csv_file)\n",
    "        return df\n",
    "    except Exception as e:\n",
    "        print(f\"Error loading dataset: {e}\")\n",
    "        return None\n",
    "    \n",
    "@resource_api.route('/get_careers', methods=['GET'])\n",
    "def get_careers_by_biology_score():\n",
    "    df = load_dataset()\n",
    "    if df is None:\n",
    "        return jsonify({\"error\": \"Dataset not found\"}), 500\n",
    "\n",
    "    if \"biology_score\" not in df.columns or \"career_aspiration\" not in df.columns:\n",
    "        return jsonify({\"error\": \"Required columns missing in dataset\"}), 500\n",
    "\n",
    "    df = df[df[\"biology_score\"].notnull()]\n",
    "    \n",
    "    target_score = request.args.get(\"biology_score\", type=float)\n",
    "\n",
    "    if target_score is not None:\n",
    "        df[\"score_diff\"] = (df[\"biology_score\"] - target_score).abs()\n",
    "        min_diff = df[\"score_diff\"].min()\n",
    "        closest_matches = df[df[\"score_diff\"] == min_diff]\n",
    "    else:\n",
    "        # If no score, just return first 5 careers\n",
    "        closest_matches = df.head(5)\n",
    "\n",
    "    return jsonify({\n",
    "        \"careers\": closest_matches[[\"career_aspiration\", \"biology_score\"]].to_dict(orient=\"records\")\n",
    "    })"
   ]
  },
  {
   "cell_type": "markdown",
   "metadata": {},
   "source": [
    "- This code defines an API endpoint /api/get_careers that loads data from a CSV file I got from Kaggle, which includes columns like biology_score, career_aspiration, and more. It ensures the dataset is available and properly formatted before moving forward.\n",
    "\n",
    "- When a user provides a biology_score through the URL (like in a frontend quiz or Postman request), the API calculates which careers in the dataset have the closest biology score by comparing absolute differences and then returns the closest careers.\n",
    "\n",
    "- If no biology_score is given, instead of returning an error, the API simply defaults to showing the first five careers in the dataset. This ensures that the API stays functional even without input and doesn’t break anything on the frontend."
   ]
  },
  {
   "cell_type": "markdown",
   "metadata": {},
   "source": [
    "As you can see here, when I run it in Postman, it shows that the biology score and its corresponding career which is later used to make the closest possible match to the user's score.\n",
    "![career](../images/postman_car.png)"
   ]
  },
  {
   "cell_type": "markdown",
   "metadata": {},
   "source": [
    "## Future Improvements\n",
    "- Add more questions to the quiz\n",
    "- Fix the header at the top of the page\n",
    "- Add a button that resets the quiz\n",
    "- Improve the style of the entire page"
   ]
  }
 ],
 "metadata": {
  "kernelspec": {
   "display_name": "Python 3",
   "language": "python",
   "name": "python3"
  },
  "language_info": {
   "codemirror_mode": {
    "name": "ipython",
    "version": 3
   },
   "file_extension": ".py",
   "mimetype": "text/x-python",
   "name": "python",
   "nbconvert_exporter": "python",
   "pygments_lexer": "ipython3",
   "version": "3.12.3"
  }
 },
 "nbformat": 4,
 "nbformat_minor": 2
}
