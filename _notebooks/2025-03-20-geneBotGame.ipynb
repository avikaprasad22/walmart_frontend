{
 "cells": [
  {
   "cell_type": "raw",
   "id": "26c8d0cb",
   "metadata": {
    "vscode": {
     "languageId": "raw"
    }
   },
   "source": [
    "---\n",
    "layout: post\n",
    "no_header: true\n",
    "title: Gene mutation guessing game/chatbot\n",
    "description: the ideation of the gene mutation guessing game\n",
    "permalink: /genes_documentation/\n",
    "author: Nora Ahadan\n",
    "---"
   ]
  },
  {
   "cell_type": "markdown",
   "id": "d6de726f",
   "metadata": {},
   "source": [
    "# Week 1\n",
    "\n",
    "3/20:\n",
    "**Original Plan:** [Chatbot](../../business_efficiency_backend/chatbot.py) where user inquires about a certain disease, chatbot pulls diseases and asosiated symtoms from a dataset, user answeres, chatbot provides a pertange of likleyhood of having the disease\n",
    "\n",
    "3/21:\n",
    "**Implementing chatbot:** Utalizing gemini api key, and a dataset from [symbipredict_2024](../../business_efficiency_backend/symbipredict_2024.csv), chatbot implemented in backend terminal\n",
    "\n",
    "<!--\n",
    "fastpages:\n",
    "  kernel: python3\n",
    "  tags: [notebook, no-execute]\n",
    "-->"
   ]
  },
  {
   "cell_type": "markdown",
   "id": "1e208dfa",
   "metadata": {},
   "source": [
    "---"
   ]
  },
  {
   "cell_type": "markdown",
   "id": "34e17fc8",
   "metadata": {},
   "source": [
    "# Week 2\n",
    "\n",
    "3/24-3/25: Refining chatbot, implementing fuzzy searching, and completing student taught lessons/lesson homework\n",
    "\n",
    "3/26: \n",
    "**New Idea:** Gene Guessing Game, more user input/engagment teaching about genetic conditions/causes. Creating first draft of \n",
    "\n",
    "3/27-3/28: Finding dataset with assosiated genetic conditions: <br> [National Institute of Health dataset](../../business_efficiency_backend/variant_summary.txt) , [Dna sequence fetching Api](../../business_efficiency_backend/DNAfetchAPI.py)\n",
    "\n",
    "<!--\n",
    "fastpages:\n",
    "  kernel: python3\n",
    "  tags: [notebook, no-execute]\n",
    "-->\n"
   ]
  },
  {
   "cell_type": "markdown",
   "id": "d502a1a6",
   "metadata": {},
   "source": [
    "---"
   ]
  },
  {
   "cell_type": "markdown",
   "id": "9e4e255e",
   "metadata": {},
   "source": [
    "# Week 3\n",
    "\n",
    "3/31: Teach lesson to class + grade homework + implement datasets into code \n",
    "\n",
    "4/1: Completing student taught lessons + helping with re adding header with documentation, and frontend UI ([Adding Frontend to Guessing Game](../navigation/genes.md))\n",
    "\n",
    "4/2: Building json file to compile data from 2 datasets, and creating API to pull both datasets together **(refining search to only overlapping dieases from both sets)** [JSON file](../../business_efficiency_backend/mutation_dataset.json)\n",
    "\n",
    "4/3: Build Api fetching 2 datasets (with JSON file) to obtain the **condition, gene, mutation, and sequence** (making sure that the data from both files overlaps with the same gene/mutation)\n",
    "[API](../../business_efficiency_backend/api/illumina.py)\n",
    "\n",
    "4/4: Testing get/post functions in postman, and building [model](../../business_efficiency_backend/model/illumina.py) file for assosiated API, saving data into SQL Lite database \n",
    "\n",
    "<!--\n",
    "fastpages:\n",
    "  kernel: python3\n",
    "  tags: [notebook, no-execute]\n",
    "-->\n"
   ]
  },
  {
   "cell_type": "markdown",
   "id": "18358e11",
   "metadata": {},
   "source": [
    "![postman output]({{site.baseurl}}/images/postmanNORA.png)\n",
    "Fetching data from endpoint function in API file "
   ]
  },
  {
   "cell_type": "code",
   "execution_count": null,
   "id": "c296954a",
   "metadata": {},
   "outputs": [],
   "source": [
    "class GetSequence(Resource):\n",
    "    def get(self):\n",
    "        tries = 0\n",
    "        max_tries = 20\n",
    "\n",
    "        while tries < max_tries:\n",
    "            entry = random.choice(mutation_data)\n",
    "            gene = entry[\"gene\"]\n",
    "\n",
    "            sequence = fetch_sequence(gene)\n",
    "            if sequence:\n",
    "                short_seq = sequence[:150] + \"...\" if len(sequence) > 150 else sequence\n",
    "                return jsonify({\n",
    "                    \"gene\": gene,\n",
    "                    \"condition\": entry[\"condition\"],\n",
    "                    \"mutation\": entry[\"mutation\"],\n",
    "                    \"sequence\": short_seq\n",
    "                })\n",
    "\n",
    "            tries += 1\n",
    "            print(f\"[INFO] Retry {tries}: sequence not found for gene {gene}\")\n",
    "\n",
    "        return jsonify({\"error\": \"Could not find a gene with both mutation and sequence\"}), 500"
   ]
  },
  {
   "cell_type": "markdown",
   "id": "9bb5ba67",
   "metadata": {},
   "source": [
    "**Explaination of function**: \n",
    "- fetching gene sequence randomly from mutation_data (dataset)\n",
    "- If fetched correctly returns with a shortened version (150 or less charecters)\n",
    "- If failed more then 20 times responds with a 500 not found error"
   ]
  },
  {
   "cell_type": "markdown",
   "id": "fda68050",
   "metadata": {},
   "source": [
    "---"
   ]
  },
  {
   "cell_type": "markdown",
   "id": "d09e3c94",
   "metadata": {},
   "source": [
    "# Week 4\n",
    "\n",
    "4/7: Student taught lessons + **adding features to frontend design**: color coordinates DNA sequence, button to display assosiated gene/disease, button to quiz again\n",
    "\n",
    "4/8: Student taught lessons + **fixing model**/saving data correctly into SQLite database\n",
    "\n",
    "4/9: **Preparing for live review** with Mr.Mort, going over agenda, features, order of presenting"
   ]
  }
 ],
 "metadata": {
  "language_info": {
   "name": "python"
  }
 },
 "nbformat": 4,
 "nbformat_minor": 5
}
