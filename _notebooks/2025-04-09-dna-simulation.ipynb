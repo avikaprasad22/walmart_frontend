{
 "cells": [
  {
   "cell_type": "raw",
   "id": "69eca1ea",
   "metadata": {
    "vscode": {
     "languageId": "raw"
    }
   },
   "source": [
    "---\n",
    "layout: post\n",
    "no_header: true\n",
    "title: DNA Simulation Plan + Documentation\n",
    "permalink: /dna_docs/\n",
    "---"
   ]
  },
  {
   "cell_type": "markdown",
   "id": "68a20a45",
   "metadata": {},
   "source": [
    "## Original Plan\n",
    "<br>\n",
    "Game Objective: Translate DNA sequences into codons and their corresponding amino acids to visually and interactively understand the process of genetic translation.\n",
    "\n",
    "1. The user starts the game and selects the species they want to analyze the DNA for (bacteria, virus, human, or strawberry).\n",
    "<br>\n",
    "2. An animation of the DNA appears with the string of the DNA.\n",
    "<br>\n",
    "3. The user selects the \"analyze\" button, which then stops the animation and zooms into the codons.\n",
    "<br>\n",
    "4. Adenine, Guanine, Thymine, and Cytosine are displayed with their corresponding colors.\n",
    "<br>\n",
    "5. The user can hover over each to learn more about its role in the DNA of the species.\n",
    "<br>\n",
    "6. Simulation can be run over and over again, each time with a different species selected.\n",
    "\n",
    "## Improvements Made\n",
    "- **Species Selection**: The user can now select the species they want to analyze the DNA for from gene sequences of different organisms stored in the backend.\n",
    "<br>\n",
    "This operates off an Ensembl API endpoint which uses the [POST] method to send the species name to the server. The server then returns the DNA sequence of the species along with other information associated."
   ]
  },
  {
   "cell_type": "markdown",
   "id": "7929a759",
   "metadata": {},
   "source": [
    "## Intended flow of the program:\n",
    "\n",
    "<h3>1. The user selects the species they want to analyze the DNA for. </h3>\n",
    "\n",
    "Request Payload (JSON):"
   ]
  },
  {
   "cell_type": "code",
   "execution_count": null,
   "id": "ed53814c",
   "metadata": {},
   "outputs": [],
   "source": [
    "{\n",
    "  \"organism\": \"Homo sapiens\",\n",
    "  \"gene\": \"BRCA2\"\n",
    "}"
   ]
  },
  {
   "cell_type": "markdown",
   "id": "3ff43755",
   "metadata": {},
   "source": [
    "Behavior:\n",
    "<br>\n",
    "Validates Input: Ensures both organism and gene are provided.\n",
    "\n",
    "<h3>2. Gene ID Lookup: Uses Ensembl API to find the Ensembl gene ID. </h3>"
   ]
  },
  {
   "cell_type": "code",
   "execution_count": null,
   "id": "daeea67e",
   "metadata": {},
   "outputs": [],
   "source": [
    "https://rest.ensembl.org/xrefs/symbol/{organism}/{gene}"
   ]
  },
  {
   "cell_type": "markdown",
   "id": "9d752096",
   "metadata": {},
   "source": [
    "<h3>3. Sequence Retrieval: Fetches the DNA sequence for the gene using its Ensembl ID. </h3>"
   ]
  },
  {
   "cell_type": "code",
   "execution_count": null,
   "id": "313af34d",
   "metadata": {},
   "outputs": [],
   "source": [
    "https://rest.ensembl.org/sequence/id/{gene_id}"
   ]
  },
  {
   "cell_type": "markdown",
   "id": "bd94d467",
   "metadata": {},
   "source": [
    "<h3>4. Intended Response (on Postman)</h3>"
   ]
  },
  {
   "cell_type": "code",
   "execution_count": null,
   "id": "a7acb291",
   "metadata": {},
   "outputs": [],
   "source": [
    "{\n",
    "  \"gene\": \"BRCA2\",\n",
    "  \"organism\": \"homo_sapiens\",\n",
    "  \"ensembl_id\": \"ENSG00000139618\",\n",
    "  \"sequence\": \"ATG...\"\n",
    "}"
   ]
  },
  {
   "cell_type": "markdown",
   "id": "02b2934f",
   "metadata": {},
   "source": []
  }
 ],
 "metadata": {
  "language_info": {
   "name": "python"
  }
 },
 "nbformat": 4,
 "nbformat_minor": 5
}
