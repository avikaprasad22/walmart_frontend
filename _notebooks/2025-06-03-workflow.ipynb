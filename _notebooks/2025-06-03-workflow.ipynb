{
 "cells": [
  {
   "cell_type": "markdown",
   "id": "fb223ec4",
   "metadata": {},
   "source": [
    "---\n",
    "layout: post\n",
    "no_header: true\n",
    "title: Genescope Workflow Diagram\n",
    "description: This blog shows the illustration of our intial planning and Workflow Diagram of the website.\n",
    "permalink: /workflow/\n",
    "show_reading_time: false\n",
    "---"
   ]
  },
  {
   "cell_type": "markdown",
   "id": "a8d50110",
   "metadata": {
    "vscode": {
     "languageId": "plaintext"
    }
   },
   "source": [
    "## Genescope Workflow Diagram\n",
    "![workflow](../images/workflow_diagram.png)"
   ]
  },
  {
   "cell_type": "markdown",
   "id": "4a6fd648",
   "metadata": {},
   "source": [
    "## Genescope Workflow Diagram Overview\n",
    "\n",
    "- Purpose\n",
    "    - Visual representation of the Genescope website's initial planning and workflow.\n",
    "- User Journey\n",
    "    - Begins with a User Story outlining a social media user’s motivation to engage with biotechnology.\n",
    "    - Illustrates multiple interactive paths for users, including quizzes, simulations, and learning resources.\n",
    "- Diagram Design Process\n",
    "    - Used color-coded blocks and directional arrows for organization and helped communicate different features and flows.\n",
    "        - Easy to understand for developers and non-technical viewers\n",
    "    - Divided into logical sections like quiz flow, DNA simulation, mutation prediction game, and results analysis."
   ]
  }
 ],
 "metadata": {
  "language_info": {
   "name": "python"
  }
 },
 "nbformat": 4,
 "nbformat_minor": 5
}
